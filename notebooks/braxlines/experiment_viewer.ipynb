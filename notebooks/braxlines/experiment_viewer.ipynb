{
  "cells": [
    {
      "cell_type": "markdown",
      "metadata": {
        "id": "ssCOanHc8JH_"
      },
      "source": [
        "# Experiment Viewer\n",
        "\n",
        "We can visualize hyperparameter sweep result directly on Colab."
      ]
    },
    {
      "cell_type": "markdown",
      "metadata": {
        "id": "VYe1kc3a4Oxc"
      },
      "source": [
        "\n",
        "\n",
        "```\n",
        "# This is formatted as code\n",
        "```\n",
        "\n",
        "[![Open In Colab](https://colab.research.google.com/assets/colab-badge.svg)](https://colab.research.google.com/github/google/brax/blob/main/notebooks/braxlines/experiment_viewer.ipynb)"
      ]
      "metadata": {
        "id": "VYe1kc3a4Oxc"
      }
    },
    {
      "cell_type": "code",
      "execution_count": null,
      "metadata": {
        "id": "rlVNS8JstMRr"
      },
      "outputs": [],
      "source": [
        "# @title Colab setup and imports\n",
        "import numpy as np\n",
        "import os\n",
        "from IPython.display import clear_output\n",
        "\n",
        "try:\n",
        "  import brax\n",
        "except ImportError:\n",
        "  !pip install git+https://github.com/google/brax.git@main\n",
        "  clear_output()\n",
        "  import brax\n",
        "\n",
        "# add more if more loading output_path's\n",
        "output_path1 = '' #@param{'type': 'string'}\n",
        "output_path2 = '' #@param{'type': 'string'}\n",
        "output_path3 = '' #@param{'type': 'string'}\n",
        "\n",
        "  # from brax.io import file\n",
        "  # from brax.experimental.braxlines.common import logger_utils\n",
        "\n",
        "output_paths = [output_path1, output_path2, output_path3]\n",
        "csv_files = []\n",
        "for output_path in output_paths:\n",
        "  if not output_path:\n",
        "    continue\n",
        "  pattern = f'{output_path}/**/training_curves.csv'\n",
        "  csv_files_ = file.Glob(pattern)\n",
        "  csv_files += csv_files_\n",
        "  print(f'Found {len(csv_files_)} files matching {pattern}')\n",
        "print(f'Total: Found {len(csv_files)} files')\n"
      ]
    },
    {
      "cell_type": "code",
      "execution_count": null,
      "metadata": {
        "id": "9Mn_Iml-w71b"
      },
      "outputs": [],
      "source": [
        "# @title Load data\n",
        "data = {}\n",
        "for i, csv_file in enumerate(csv_files):\n",
        "  key = os.path.basename(os.path.dirname(csv_file))\n",
        "  print(f'[{i+1}/{len(csv_files)}]')\n",
        "  data[key] = {label_rename(k): np.array(v) for k, v in \n",
        "               logger_utils.parse_csv(csv_file, verbose=True).items()}"
      ]
    },
    {
      "cell_type": "code",
      "execution_count": null,
      "metadata": {
        "id": "yEwJnB4F3sYk"
      },
      "outputs": [],
      "source": [
        "# @title Plot data\n",
        "import math\n",
        "import matplotlib.pyplot as plt\n",
        "import numpy as np\n",
        "import re\n",
        "\n",
        "def spec(N):\n",
        "  t = np.linspace(-510, 510, N)\n",
        "  return np.clip(np.stack([-t, 510 - np.abs(t), t], axis=1), 0, 255) / 255.\n",
        "\n",
        "xmax = 3e8# @param{type: 'number'}\n",
        "xlabel = 'num_steps' # @param['num_steps']\n",
        "ylabel = 'eval/episode_reward' # @param['eval/episode_reward', 'metrics/entropy_z', 'metrics/entropy_all', 'losses/disc_loss', 'metrics/lgr', 'metrics/mi', '(lgr|episode_reward|mi)', '(episode_reward|energy_dist)']\n",
        "filter_regex = '' # @param{'type': 'string'}\n",
        "filter_regex = f'.*{filter_regex}.*'\n",
        "filter_ylabel = f'.*{ylabel}.*'\n",
        "\n",
        "ylabels = sorted(list(data.values())[0].keys())\n",
        "ylabels = [y for y in ylabels if re.match(filter_ylabel, y)]\n",
        "\n",
        "ncols = 5\n",
        "nrows = int(math.ceil(len(ylabels)/ncols))\n",
        "fig, axs = plt.subplots(ncols=ncols, nrows=nrows, figsize=(4.5 *ncols,4 *nrows))\n",
        "plot_data = {k:v for k, v in data.items() if re.match(filter_regex, k) and 'FULL' not in k}\n",
        "colors = spec(len(plot_data))\n",
        "for i, y in enumerate(ylabels):\n",
        "\n",
        "  axcolor = None\n",
        "  axalpha = None\n",
        "  ax = axs\n",
        "  row, col = int(i/ncols), i%ncols\n",
        "  if nrows \u003e 1:\n",
        "    ax = ax[row]\n",
        "  if ncols \u003e 1:\n",
        "    ax = ax[col] \n",
        "  for (k, v), c in zip(sorted(plot_data.items()), colors):\n",
        "    if y in v:\n",
        "      filter = v[xlabel] \u003c= xmax\n",
        "      xv = v[xlabel][filter]\n",
        "      yv = v[y][filter]\n",
        "      ax.plot(v[xlabel][filter], v[y][filter], label=k, c=c, alpha=0.8)\n",
        "      if axcolor:\n",
        "        ax.patch.set_facecolor(axcolor)\n",
        "      if axalpha is not None:\n",
        "        ax.patch.set_alpha(axalpha) \n",
        "\n",
        "  ax.set(xlabel=xlabel, ylabel=y)\n",
        "  ax.legend()\n",
        "fig.tight_layout()\n",
        "plt.show()"
      ]
    }
  ],
  "metadata": {
    "accelerator": "TPU",
    "colab": {
      "collapsed_sections": [],
      "last_runtime": {
        "build_target": "//learning/deepmind/public/tools/ml_python:ml_notebook",
        "kind": "private"
      },
      "name": "experiment_viewer.ipynb",
      "private_outputs": true,
      "provenance": [
        {
          "file_id": "1-fplVbCqf5xQaosZXC9UcaiKfNpsNKjx",
          "timestamp": 1630385557712
        },
        {
          "file_id": "1zvUdazhGU7ZjPl-Vb2GSESCWtEgiw2bJ",
          "timestamp": 1629749582973
        },
        {
          "file_id": "1ZaAO4BS2tJ_03CIXdBCFibZR2yLl6dtv",
          "timestamp": 1629608669428
        }
      ]
    },
    "kernelspec": {
      "display_name": "Python 3",
      "name": "python3"
    },
    "language_info": {
      "name": "python"
    }
  },
  "nbformat": 4,
  "nbformat_minor": 0
}
